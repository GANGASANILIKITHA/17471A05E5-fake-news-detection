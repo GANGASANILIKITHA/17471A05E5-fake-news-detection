{
 "cells": [
  {
   "cell_type": "code",
   "execution_count": 1,
   "metadata": {},
   "outputs": [],
   "source": [
    "import numpy as np # linear algebra\n",
    "import pandas as pd # data processing, CSV file I/O (e.g. pd.read_csv)"
   ]
  },
  {
   "cell_type": "markdown",
   "metadata": {},
   "source": []
  },
  {
   "cell_type": "code",
   "execution_count": 2,
   "metadata": {},
   "outputs": [],
   "source": [
    "import os\n",
    "for dirname, _, filenames in os.walk('/kaggle/input'):\n",
    "    for filename in filenames:\n",
    "        print(os.path.join(dirname, filename))"
   ]
  },
  {
   "cell_type": "code",
   "execution_count": 3,
   "metadata": {},
   "outputs": [],
   "source": [
    "import numpy as np\n",
    "import pandas as pd\n",
    "import matplotlib.pyplot as plt\n",
    "import matplotlib\n",
    "import seaborn as sns\n",
    "import itertools\n",
    "from sklearn.model_selection import train_test_split\n",
    "from sklearn.feature_extraction.text import TfidfVectorizer\n",
    "from sklearn.linear_model import PassiveAggressiveClassifier\n",
    "from sklearn.metrics import accuracy_score, confusion_matrix\n",
    "import string as st\n",
    "import re\n",
    "import nltk\n",
    "from nltk import PorterStemmer, WordNetLemmatizer\n",
    "from nltk.corpus import stopwords"
   ]
  },
  {
   "cell_type": "code",
   "execution_count": 4,
   "metadata": {},
   "outputs": [],
   "source": [
    "news_df=pd.read_csv(r'C:\\Users\\LIKITHA\\Desktop\\4-2 project\\fake_or_real_news.csv')"
   ]
  },
  {
   "cell_type": "code",
   "execution_count": 5,
   "metadata": {},
   "outputs": [
    {
     "data": {
      "text/html": [
       "<div>\n",
       "<style scoped>\n",
       "    .dataframe tbody tr th:only-of-type {\n",
       "        vertical-align: middle;\n",
       "    }\n",
       "\n",
       "    .dataframe tbody tr th {\n",
       "        vertical-align: top;\n",
       "    }\n",
       "\n",
       "    .dataframe thead th {\n",
       "        text-align: right;\n",
       "    }\n",
       "</style>\n",
       "<table border=\"1\" class=\"dataframe\">\n",
       "  <thead>\n",
       "    <tr style=\"text-align: right;\">\n",
       "      <th></th>\n",
       "      <th>Unnamed: 0</th>\n",
       "      <th>title</th>\n",
       "      <th>text</th>\n",
       "      <th>label</th>\n",
       "    </tr>\n",
       "  </thead>\n",
       "  <tbody>\n",
       "    <tr>\n",
       "      <th>0</th>\n",
       "      <td>8476</td>\n",
       "      <td>You Can Smell Hillary’s Fear</td>\n",
       "      <td>Daniel Greenfield, a Shillman Journalism Fello...</td>\n",
       "      <td>FAKE</td>\n",
       "    </tr>\n",
       "    <tr>\n",
       "      <th>1</th>\n",
       "      <td>10294</td>\n",
       "      <td>Watch The Exact Moment Paul Ryan Committed Pol...</td>\n",
       "      <td>Google Pinterest Digg Linkedin Reddit Stumbleu...</td>\n",
       "      <td>FAKE</td>\n",
       "    </tr>\n",
       "    <tr>\n",
       "      <th>2</th>\n",
       "      <td>3608</td>\n",
       "      <td>Kerry to go to Paris in gesture of sympathy</td>\n",
       "      <td>U.S. Secretary of State John F. Kerry said Mon...</td>\n",
       "      <td>REAL</td>\n",
       "    </tr>\n",
       "    <tr>\n",
       "      <th>3</th>\n",
       "      <td>10142</td>\n",
       "      <td>Bernie supporters on Twitter erupt in anger ag...</td>\n",
       "      <td>— Kaydee King (@KaydeeKing) November 9, 2016 T...</td>\n",
       "      <td>FAKE</td>\n",
       "    </tr>\n",
       "    <tr>\n",
       "      <th>4</th>\n",
       "      <td>875</td>\n",
       "      <td>The Battle of New York: Why This Primary Matters</td>\n",
       "      <td>It's primary day in New York and front-runners...</td>\n",
       "      <td>REAL</td>\n",
       "    </tr>\n",
       "  </tbody>\n",
       "</table>\n",
       "</div>"
      ],
      "text/plain": [
       "   Unnamed: 0                                              title  \\\n",
       "0        8476                       You Can Smell Hillary’s Fear   \n",
       "1       10294  Watch The Exact Moment Paul Ryan Committed Pol...   \n",
       "2        3608        Kerry to go to Paris in gesture of sympathy   \n",
       "3       10142  Bernie supporters on Twitter erupt in anger ag...   \n",
       "4         875   The Battle of New York: Why This Primary Matters   \n",
       "\n",
       "                                                text label  \n",
       "0  Daniel Greenfield, a Shillman Journalism Fello...  FAKE  \n",
       "1  Google Pinterest Digg Linkedin Reddit Stumbleu...  FAKE  \n",
       "2  U.S. Secretary of State John F. Kerry said Mon...  REAL  \n",
       "3  — Kaydee King (@KaydeeKing) November 9, 2016 T...  FAKE  \n",
       "4  It's primary day in New York and front-runners...  REAL  "
      ]
     },
     "execution_count": 5,
     "metadata": {},
     "output_type": "execute_result"
    }
   ],
   "source": [
    "news_df.head()"
   ]
  },
  {
   "cell_type": "code",
   "execution_count": 6,
   "metadata": {},
   "outputs": [
    {
     "data": {
      "text/html": [
       "<div>\n",
       "<style scoped>\n",
       "    .dataframe tbody tr th:only-of-type {\n",
       "        vertical-align: middle;\n",
       "    }\n",
       "\n",
       "    .dataframe tbody tr th {\n",
       "        vertical-align: top;\n",
       "    }\n",
       "\n",
       "    .dataframe thead th {\n",
       "        text-align: right;\n",
       "    }\n",
       "</style>\n",
       "<table border=\"1\" class=\"dataframe\">\n",
       "  <thead>\n",
       "    <tr style=\"text-align: right;\">\n",
       "      <th></th>\n",
       "      <th>Unnamed: 0</th>\n",
       "      <th>title</th>\n",
       "      <th>text</th>\n",
       "      <th>label</th>\n",
       "    </tr>\n",
       "  </thead>\n",
       "  <tbody>\n",
       "    <tr>\n",
       "      <th>6330</th>\n",
       "      <td>4490</td>\n",
       "      <td>State Department says it can't find emails fro...</td>\n",
       "      <td>The State Department told the Republican Natio...</td>\n",
       "      <td>REAL</td>\n",
       "    </tr>\n",
       "    <tr>\n",
       "      <th>6331</th>\n",
       "      <td>8062</td>\n",
       "      <td>The ‘P’ in PBS Should Stand for ‘Plutocratic’ ...</td>\n",
       "      <td>The ‘P’ in PBS Should Stand for ‘Plutocratic’ ...</td>\n",
       "      <td>FAKE</td>\n",
       "    </tr>\n",
       "    <tr>\n",
       "      <th>6332</th>\n",
       "      <td>8622</td>\n",
       "      <td>Anti-Trump Protesters Are Tools of the Oligarc...</td>\n",
       "      <td>Anti-Trump Protesters Are Tools of the Oligar...</td>\n",
       "      <td>FAKE</td>\n",
       "    </tr>\n",
       "    <tr>\n",
       "      <th>6333</th>\n",
       "      <td>4021</td>\n",
       "      <td>In Ethiopia, Obama seeks progress on peace, se...</td>\n",
       "      <td>ADDIS ABABA, Ethiopia —President Obama convene...</td>\n",
       "      <td>REAL</td>\n",
       "    </tr>\n",
       "    <tr>\n",
       "      <th>6334</th>\n",
       "      <td>4330</td>\n",
       "      <td>Jeb Bush Is Suddenly Attacking Trump. Here's W...</td>\n",
       "      <td>Jeb Bush Is Suddenly Attacking Trump. Here's W...</td>\n",
       "      <td>REAL</td>\n",
       "    </tr>\n",
       "  </tbody>\n",
       "</table>\n",
       "</div>"
      ],
      "text/plain": [
       "      Unnamed: 0                                              title  \\\n",
       "6330        4490  State Department says it can't find emails fro...   \n",
       "6331        8062  The ‘P’ in PBS Should Stand for ‘Plutocratic’ ...   \n",
       "6332        8622  Anti-Trump Protesters Are Tools of the Oligarc...   \n",
       "6333        4021  In Ethiopia, Obama seeks progress on peace, se...   \n",
       "6334        4330  Jeb Bush Is Suddenly Attacking Trump. Here's W...   \n",
       "\n",
       "                                                   text label  \n",
       "6330  The State Department told the Republican Natio...  REAL  \n",
       "6331  The ‘P’ in PBS Should Stand for ‘Plutocratic’ ...  FAKE  \n",
       "6332   Anti-Trump Protesters Are Tools of the Oligar...  FAKE  \n",
       "6333  ADDIS ABABA, Ethiopia —President Obama convene...  REAL  \n",
       "6334  Jeb Bush Is Suddenly Attacking Trump. Here's W...  REAL  "
      ]
     },
     "execution_count": 6,
     "metadata": {},
     "output_type": "execute_result"
    }
   ],
   "source": [
    "news_df.tail()"
   ]
  },
  {
   "cell_type": "code",
   "execution_count": 7,
   "metadata": {},
   "outputs": [
    {
     "data": {
      "text/plain": [
       "(6335, 4)"
      ]
     },
     "execution_count": 7,
     "metadata": {},
     "output_type": "execute_result"
    }
   ],
   "source": [
    "#getting the shape of our data \n",
    "news_df.shape"
   ]
  },
  {
   "cell_type": "code",
   "execution_count": 8,
   "metadata": {},
   "outputs": [
    {
     "data": {
      "text/plain": [
       "0       FAKE\n",
       "1       FAKE\n",
       "2       REAL\n",
       "3       FAKE\n",
       "4       REAL\n",
       "        ... \n",
       "6330    REAL\n",
       "6331    FAKE\n",
       "6332    FAKE\n",
       "6333    REAL\n",
       "6334    REAL\n",
       "Name: label, Length: 6335, dtype: object"
      ]
     },
     "execution_count": 8,
     "metadata": {},
     "output_type": "execute_result"
    }
   ],
   "source": [
    "news=news_df.label\n",
    "news.value_counts()\n",
    "news"
   ]
  },
  {
   "cell_type": "code",
   "execution_count": 9,
   "metadata": {},
   "outputs": [],
   "source": [
    "'''The punctuations are also not significant for text classification and it only increases the total dimension in vector space, so we filter them out before building the machine learning model.'''\n",
    "def remove_punct(text):\n",
    "    return (\"\".join([ch for ch in text if ch not in st.punctuation]))"
   ]
  },
  {
   "cell_type": "code",
   "execution_count": 10,
   "metadata": {},
   "outputs": [
    {
     "data": {
      "text/html": [
       "<div>\n",
       "<style scoped>\n",
       "    .dataframe tbody tr th:only-of-type {\n",
       "        vertical-align: middle;\n",
       "    }\n",
       "\n",
       "    .dataframe tbody tr th {\n",
       "        vertical-align: top;\n",
       "    }\n",
       "\n",
       "    .dataframe thead th {\n",
       "        text-align: right;\n",
       "    }\n",
       "</style>\n",
       "<table border=\"1\" class=\"dataframe\">\n",
       "  <thead>\n",
       "    <tr style=\"text-align: right;\">\n",
       "      <th></th>\n",
       "      <th>Unnamed: 0</th>\n",
       "      <th>title</th>\n",
       "      <th>text</th>\n",
       "      <th>label</th>\n",
       "      <th>removed_punc</th>\n",
       "    </tr>\n",
       "  </thead>\n",
       "  <tbody>\n",
       "    <tr>\n",
       "      <th>0</th>\n",
       "      <td>8476</td>\n",
       "      <td>You Can Smell Hillary’s Fear</td>\n",
       "      <td>Daniel Greenfield, a Shillman Journalism Fello...</td>\n",
       "      <td>FAKE</td>\n",
       "      <td>Daniel Greenfield a Shillman Journalism Fellow...</td>\n",
       "    </tr>\n",
       "    <tr>\n",
       "      <th>1</th>\n",
       "      <td>10294</td>\n",
       "      <td>Watch The Exact Moment Paul Ryan Committed Pol...</td>\n",
       "      <td>Google Pinterest Digg Linkedin Reddit Stumbleu...</td>\n",
       "      <td>FAKE</td>\n",
       "      <td>Google Pinterest Digg Linkedin Reddit Stumbleu...</td>\n",
       "    </tr>\n",
       "    <tr>\n",
       "      <th>2</th>\n",
       "      <td>3608</td>\n",
       "      <td>Kerry to go to Paris in gesture of sympathy</td>\n",
       "      <td>U.S. Secretary of State John F. Kerry said Mon...</td>\n",
       "      <td>REAL</td>\n",
       "      <td>US Secretary of State John F Kerry said Monday...</td>\n",
       "    </tr>\n",
       "    <tr>\n",
       "      <th>3</th>\n",
       "      <td>10142</td>\n",
       "      <td>Bernie supporters on Twitter erupt in anger ag...</td>\n",
       "      <td>— Kaydee King (@KaydeeKing) November 9, 2016 T...</td>\n",
       "      <td>FAKE</td>\n",
       "      <td>— Kaydee King KaydeeKing November 9 2016 The l...</td>\n",
       "    </tr>\n",
       "    <tr>\n",
       "      <th>4</th>\n",
       "      <td>875</td>\n",
       "      <td>The Battle of New York: Why This Primary Matters</td>\n",
       "      <td>It's primary day in New York and front-runners...</td>\n",
       "      <td>REAL</td>\n",
       "      <td>Its primary day in New York and frontrunners H...</td>\n",
       "    </tr>\n",
       "  </tbody>\n",
       "</table>\n",
       "</div>"
      ],
      "text/plain": [
       "   Unnamed: 0                                              title  \\\n",
       "0        8476                       You Can Smell Hillary’s Fear   \n",
       "1       10294  Watch The Exact Moment Paul Ryan Committed Pol...   \n",
       "2        3608        Kerry to go to Paris in gesture of sympathy   \n",
       "3       10142  Bernie supporters on Twitter erupt in anger ag...   \n",
       "4         875   The Battle of New York: Why This Primary Matters   \n",
       "\n",
       "                                                text label  \\\n",
       "0  Daniel Greenfield, a Shillman Journalism Fello...  FAKE   \n",
       "1  Google Pinterest Digg Linkedin Reddit Stumbleu...  FAKE   \n",
       "2  U.S. Secretary of State John F. Kerry said Mon...  REAL   \n",
       "3  — Kaydee King (@KaydeeKing) November 9, 2016 T...  FAKE   \n",
       "4  It's primary day in New York and front-runners...  REAL   \n",
       "\n",
       "                                        removed_punc  \n",
       "0  Daniel Greenfield a Shillman Journalism Fellow...  \n",
       "1  Google Pinterest Digg Linkedin Reddit Stumbleu...  \n",
       "2  US Secretary of State John F Kerry said Monday...  \n",
       "3  — Kaydee King KaydeeKing November 9 2016 The l...  \n",
       "4  Its primary day in New York and frontrunners H...  "
      ]
     },
     "execution_count": 10,
     "metadata": {},
     "output_type": "execute_result"
    }
   ],
   "source": [
    "news_df['removed_punc'] = news_df['text'].apply(lambda x: remove_punct(x))\n",
    "news_df.head()"
   ]
  },
  {
   "cell_type": "code",
   "execution_count": 11,
   "metadata": {},
   "outputs": [],
   "source": [
    "'''Convert text to lower case tokens. Here, split() is applied on white-spaces. But, it could be applied\n",
    "    on special characters, tabs or any other string based on which text is to be seperated into tokens.\n",
    "    '''\n",
    "def tokenize(text):\n",
    "    text = re.split('\\s+' ,text)\n",
    "    return [x.lower() for x in text]"
   ]
  },
  {
   "cell_type": "code",
   "execution_count": 12,
   "metadata": {},
   "outputs": [
    {
     "data": {
      "text/html": [
       "<div>\n",
       "<style scoped>\n",
       "    .dataframe tbody tr th:only-of-type {\n",
       "        vertical-align: middle;\n",
       "    }\n",
       "\n",
       "    .dataframe tbody tr th {\n",
       "        vertical-align: top;\n",
       "    }\n",
       "\n",
       "    .dataframe thead th {\n",
       "        text-align: right;\n",
       "    }\n",
       "</style>\n",
       "<table border=\"1\" class=\"dataframe\">\n",
       "  <thead>\n",
       "    <tr style=\"text-align: right;\">\n",
       "      <th></th>\n",
       "      <th>Unnamed: 0</th>\n",
       "      <th>title</th>\n",
       "      <th>text</th>\n",
       "      <th>label</th>\n",
       "      <th>removed_punc</th>\n",
       "      <th>tokens</th>\n",
       "    </tr>\n",
       "  </thead>\n",
       "  <tbody>\n",
       "    <tr>\n",
       "      <th>0</th>\n",
       "      <td>8476</td>\n",
       "      <td>You Can Smell Hillary’s Fear</td>\n",
       "      <td>Daniel Greenfield, a Shillman Journalism Fello...</td>\n",
       "      <td>FAKE</td>\n",
       "      <td>Daniel Greenfield a Shillman Journalism Fellow...</td>\n",
       "      <td>[daniel, greenfield, a, shillman, journalism, ...</td>\n",
       "    </tr>\n",
       "    <tr>\n",
       "      <th>1</th>\n",
       "      <td>10294</td>\n",
       "      <td>Watch The Exact Moment Paul Ryan Committed Pol...</td>\n",
       "      <td>Google Pinterest Digg Linkedin Reddit Stumbleu...</td>\n",
       "      <td>FAKE</td>\n",
       "      <td>Google Pinterest Digg Linkedin Reddit Stumbleu...</td>\n",
       "      <td>[google, pinterest, digg, linkedin, reddit, st...</td>\n",
       "    </tr>\n",
       "    <tr>\n",
       "      <th>2</th>\n",
       "      <td>3608</td>\n",
       "      <td>Kerry to go to Paris in gesture of sympathy</td>\n",
       "      <td>U.S. Secretary of State John F. Kerry said Mon...</td>\n",
       "      <td>REAL</td>\n",
       "      <td>US Secretary of State John F Kerry said Monday...</td>\n",
       "      <td>[us, secretary, of, state, john, f, kerry, sai...</td>\n",
       "    </tr>\n",
       "    <tr>\n",
       "      <th>3</th>\n",
       "      <td>10142</td>\n",
       "      <td>Bernie supporters on Twitter erupt in anger ag...</td>\n",
       "      <td>— Kaydee King (@KaydeeKing) November 9, 2016 T...</td>\n",
       "      <td>FAKE</td>\n",
       "      <td>— Kaydee King KaydeeKing November 9 2016 The l...</td>\n",
       "      <td>[—, kaydee, king, kaydeeking, november, 9, 201...</td>\n",
       "    </tr>\n",
       "    <tr>\n",
       "      <th>4</th>\n",
       "      <td>875</td>\n",
       "      <td>The Battle of New York: Why This Primary Matters</td>\n",
       "      <td>It's primary day in New York and front-runners...</td>\n",
       "      <td>REAL</td>\n",
       "      <td>Its primary day in New York and frontrunners H...</td>\n",
       "      <td>[its, primary, day, in, new, york, and, frontr...</td>\n",
       "    </tr>\n",
       "  </tbody>\n",
       "</table>\n",
       "</div>"
      ],
      "text/plain": [
       "   Unnamed: 0                                              title  \\\n",
       "0        8476                       You Can Smell Hillary’s Fear   \n",
       "1       10294  Watch The Exact Moment Paul Ryan Committed Pol...   \n",
       "2        3608        Kerry to go to Paris in gesture of sympathy   \n",
       "3       10142  Bernie supporters on Twitter erupt in anger ag...   \n",
       "4         875   The Battle of New York: Why This Primary Matters   \n",
       "\n",
       "                                                text label  \\\n",
       "0  Daniel Greenfield, a Shillman Journalism Fello...  FAKE   \n",
       "1  Google Pinterest Digg Linkedin Reddit Stumbleu...  FAKE   \n",
       "2  U.S. Secretary of State John F. Kerry said Mon...  REAL   \n",
       "3  — Kaydee King (@KaydeeKing) November 9, 2016 T...  FAKE   \n",
       "4  It's primary day in New York and front-runners...  REAL   \n",
       "\n",
       "                                        removed_punc  \\\n",
       "0  Daniel Greenfield a Shillman Journalism Fellow...   \n",
       "1  Google Pinterest Digg Linkedin Reddit Stumbleu...   \n",
       "2  US Secretary of State John F Kerry said Monday...   \n",
       "3  — Kaydee King KaydeeKing November 9 2016 The l...   \n",
       "4  Its primary day in New York and frontrunners H...   \n",
       "\n",
       "                                              tokens  \n",
       "0  [daniel, greenfield, a, shillman, journalism, ...  \n",
       "1  [google, pinterest, digg, linkedin, reddit, st...  \n",
       "2  [us, secretary, of, state, john, f, kerry, sai...  \n",
       "3  [—, kaydee, king, kaydeeking, november, 9, 201...  \n",
       "4  [its, primary, day, in, new, york, and, frontr...  "
      ]
     },
     "execution_count": 12,
     "metadata": {},
     "output_type": "execute_result"
    }
   ],
   "source": [
    "news_df['tokens'] = news_df['removed_punc'].apply(lambda msg : tokenize(msg))\n",
    "news_df.head()"
   ]
  },
  {
   "cell_type": "code",
   "execution_count": 13,
   "metadata": {},
   "outputs": [],
   "source": [
    "# Remove tokens of length less than 3\n",
    "def remove_small_words(text):\n",
    "    return [x for x in text if len(x) > 3 ]"
   ]
  },
  {
   "cell_type": "code",
   "execution_count": 14,
   "metadata": {},
   "outputs": [
    {
     "data": {
      "text/html": [
       "<div>\n",
       "<style scoped>\n",
       "    .dataframe tbody tr th:only-of-type {\n",
       "        vertical-align: middle;\n",
       "    }\n",
       "\n",
       "    .dataframe tbody tr th {\n",
       "        vertical-align: top;\n",
       "    }\n",
       "\n",
       "    .dataframe thead th {\n",
       "        text-align: right;\n",
       "    }\n",
       "</style>\n",
       "<table border=\"1\" class=\"dataframe\">\n",
       "  <thead>\n",
       "    <tr style=\"text-align: right;\">\n",
       "      <th></th>\n",
       "      <th>Unnamed: 0</th>\n",
       "      <th>title</th>\n",
       "      <th>text</th>\n",
       "      <th>label</th>\n",
       "      <th>removed_punc</th>\n",
       "      <th>tokens</th>\n",
       "      <th>filtered_tokens</th>\n",
       "    </tr>\n",
       "  </thead>\n",
       "  <tbody>\n",
       "    <tr>\n",
       "      <th>0</th>\n",
       "      <td>8476</td>\n",
       "      <td>You Can Smell Hillary’s Fear</td>\n",
       "      <td>Daniel Greenfield, a Shillman Journalism Fello...</td>\n",
       "      <td>FAKE</td>\n",
       "      <td>Daniel Greenfield a Shillman Journalism Fellow...</td>\n",
       "      <td>[daniel, greenfield, a, shillman, journalism, ...</td>\n",
       "      <td>[daniel, greenfield, shillman, journalism, fel...</td>\n",
       "    </tr>\n",
       "    <tr>\n",
       "      <th>1</th>\n",
       "      <td>10294</td>\n",
       "      <td>Watch The Exact Moment Paul Ryan Committed Pol...</td>\n",
       "      <td>Google Pinterest Digg Linkedin Reddit Stumbleu...</td>\n",
       "      <td>FAKE</td>\n",
       "      <td>Google Pinterest Digg Linkedin Reddit Stumbleu...</td>\n",
       "      <td>[google, pinterest, digg, linkedin, reddit, st...</td>\n",
       "      <td>[google, pinterest, digg, linkedin, reddit, st...</td>\n",
       "    </tr>\n",
       "    <tr>\n",
       "      <th>2</th>\n",
       "      <td>3608</td>\n",
       "      <td>Kerry to go to Paris in gesture of sympathy</td>\n",
       "      <td>U.S. Secretary of State John F. Kerry said Mon...</td>\n",
       "      <td>REAL</td>\n",
       "      <td>US Secretary of State John F Kerry said Monday...</td>\n",
       "      <td>[us, secretary, of, state, john, f, kerry, sai...</td>\n",
       "      <td>[secretary, state, john, kerry, said, monday, ...</td>\n",
       "    </tr>\n",
       "    <tr>\n",
       "      <th>3</th>\n",
       "      <td>10142</td>\n",
       "      <td>Bernie supporters on Twitter erupt in anger ag...</td>\n",
       "      <td>— Kaydee King (@KaydeeKing) November 9, 2016 T...</td>\n",
       "      <td>FAKE</td>\n",
       "      <td>— Kaydee King KaydeeKing November 9 2016 The l...</td>\n",
       "      <td>[—, kaydee, king, kaydeeking, november, 9, 201...</td>\n",
       "      <td>[kaydee, king, kaydeeking, november, 2016, les...</td>\n",
       "    </tr>\n",
       "    <tr>\n",
       "      <th>4</th>\n",
       "      <td>875</td>\n",
       "      <td>The Battle of New York: Why This Primary Matters</td>\n",
       "      <td>It's primary day in New York and front-runners...</td>\n",
       "      <td>REAL</td>\n",
       "      <td>Its primary day in New York and frontrunners H...</td>\n",
       "      <td>[its, primary, day, in, new, york, and, frontr...</td>\n",
       "      <td>[primary, york, frontrunners, hillary, clinton...</td>\n",
       "    </tr>\n",
       "  </tbody>\n",
       "</table>\n",
       "</div>"
      ],
      "text/plain": [
       "   Unnamed: 0                                              title  \\\n",
       "0        8476                       You Can Smell Hillary’s Fear   \n",
       "1       10294  Watch The Exact Moment Paul Ryan Committed Pol...   \n",
       "2        3608        Kerry to go to Paris in gesture of sympathy   \n",
       "3       10142  Bernie supporters on Twitter erupt in anger ag...   \n",
       "4         875   The Battle of New York: Why This Primary Matters   \n",
       "\n",
       "                                                text label  \\\n",
       "0  Daniel Greenfield, a Shillman Journalism Fello...  FAKE   \n",
       "1  Google Pinterest Digg Linkedin Reddit Stumbleu...  FAKE   \n",
       "2  U.S. Secretary of State John F. Kerry said Mon...  REAL   \n",
       "3  — Kaydee King (@KaydeeKing) November 9, 2016 T...  FAKE   \n",
       "4  It's primary day in New York and front-runners...  REAL   \n",
       "\n",
       "                                        removed_punc  \\\n",
       "0  Daniel Greenfield a Shillman Journalism Fellow...   \n",
       "1  Google Pinterest Digg Linkedin Reddit Stumbleu...   \n",
       "2  US Secretary of State John F Kerry said Monday...   \n",
       "3  — Kaydee King KaydeeKing November 9 2016 The l...   \n",
       "4  Its primary day in New York and frontrunners H...   \n",
       "\n",
       "                                              tokens  \\\n",
       "0  [daniel, greenfield, a, shillman, journalism, ...   \n",
       "1  [google, pinterest, digg, linkedin, reddit, st...   \n",
       "2  [us, secretary, of, state, john, f, kerry, sai...   \n",
       "3  [—, kaydee, king, kaydeeking, november, 9, 201...   \n",
       "4  [its, primary, day, in, new, york, and, frontr...   \n",
       "\n",
       "                                     filtered_tokens  \n",
       "0  [daniel, greenfield, shillman, journalism, fel...  \n",
       "1  [google, pinterest, digg, linkedin, reddit, st...  \n",
       "2  [secretary, state, john, kerry, said, monday, ...  \n",
       "3  [kaydee, king, kaydeeking, november, 2016, les...  \n",
       "4  [primary, york, frontrunners, hillary, clinton...  "
      ]
     },
     "execution_count": 14,
     "metadata": {},
     "output_type": "execute_result"
    }
   ],
   "source": [
    "news_df['filtered_tokens'] = news_df['tokens'].apply(lambda x : remove_small_words(x))\n",
    "news_df.head()"
   ]
  },
  {
   "cell_type": "code",
   "execution_count": 15,
   "metadata": {},
   "outputs": [],
   "source": [
    "''' Remove stopwords. Here, NLTK corpus list is used for a match. However, a customized user-defined \n",
    "    list could be created and used to limit the matches in input text. \n",
    "'''\n",
    "'''Stop words are the most common words used in regular conversation and it does not add significant value in the conversation. The examples of stop words are a, an, the, he, she, it, etc. So in text classification tasks, we use to remove such stop words by importing stop words defined in nltk corpus.'''\n",
    "def remove_stopwords(text):\n",
    "    return [word for word in text if word not in nltk.corpus.stopwords.words('english')]"
   ]
  },
  {
   "cell_type": "code",
   "execution_count": 16,
   "metadata": {},
   "outputs": [
    {
     "data": {
      "text/html": [
       "<div>\n",
       "<style scoped>\n",
       "    .dataframe tbody tr th:only-of-type {\n",
       "        vertical-align: middle;\n",
       "    }\n",
       "\n",
       "    .dataframe tbody tr th {\n",
       "        vertical-align: top;\n",
       "    }\n",
       "\n",
       "    .dataframe thead th {\n",
       "        text-align: right;\n",
       "    }\n",
       "</style>\n",
       "<table border=\"1\" class=\"dataframe\">\n",
       "  <thead>\n",
       "    <tr style=\"text-align: right;\">\n",
       "      <th></th>\n",
       "      <th>Unnamed: 0</th>\n",
       "      <th>title</th>\n",
       "      <th>text</th>\n",
       "      <th>label</th>\n",
       "      <th>removed_punc</th>\n",
       "      <th>tokens</th>\n",
       "      <th>filtered_tokens</th>\n",
       "      <th>clean_tokens</th>\n",
       "    </tr>\n",
       "  </thead>\n",
       "  <tbody>\n",
       "    <tr>\n",
       "      <th>0</th>\n",
       "      <td>8476</td>\n",
       "      <td>You Can Smell Hillary’s Fear</td>\n",
       "      <td>Daniel Greenfield, a Shillman Journalism Fello...</td>\n",
       "      <td>FAKE</td>\n",
       "      <td>Daniel Greenfield a Shillman Journalism Fellow...</td>\n",
       "      <td>[daniel, greenfield, a, shillman, journalism, ...</td>\n",
       "      <td>[daniel, greenfield, shillman, journalism, fel...</td>\n",
       "      <td>[daniel, greenfield, shillman, journalism, fel...</td>\n",
       "    </tr>\n",
       "    <tr>\n",
       "      <th>1</th>\n",
       "      <td>10294</td>\n",
       "      <td>Watch The Exact Moment Paul Ryan Committed Pol...</td>\n",
       "      <td>Google Pinterest Digg Linkedin Reddit Stumbleu...</td>\n",
       "      <td>FAKE</td>\n",
       "      <td>Google Pinterest Digg Linkedin Reddit Stumbleu...</td>\n",
       "      <td>[google, pinterest, digg, linkedin, reddit, st...</td>\n",
       "      <td>[google, pinterest, digg, linkedin, reddit, st...</td>\n",
       "      <td>[google, pinterest, digg, linkedin, reddit, st...</td>\n",
       "    </tr>\n",
       "    <tr>\n",
       "      <th>2</th>\n",
       "      <td>3608</td>\n",
       "      <td>Kerry to go to Paris in gesture of sympathy</td>\n",
       "      <td>U.S. Secretary of State John F. Kerry said Mon...</td>\n",
       "      <td>REAL</td>\n",
       "      <td>US Secretary of State John F Kerry said Monday...</td>\n",
       "      <td>[us, secretary, of, state, john, f, kerry, sai...</td>\n",
       "      <td>[secretary, state, john, kerry, said, monday, ...</td>\n",
       "      <td>[secretary, state, john, kerry, said, monday, ...</td>\n",
       "    </tr>\n",
       "    <tr>\n",
       "      <th>3</th>\n",
       "      <td>10142</td>\n",
       "      <td>Bernie supporters on Twitter erupt in anger ag...</td>\n",
       "      <td>— Kaydee King (@KaydeeKing) November 9, 2016 T...</td>\n",
       "      <td>FAKE</td>\n",
       "      <td>— Kaydee King KaydeeKing November 9 2016 The l...</td>\n",
       "      <td>[—, kaydee, king, kaydeeking, november, 9, 201...</td>\n",
       "      <td>[kaydee, king, kaydeeking, november, 2016, les...</td>\n",
       "      <td>[kaydee, king, kaydeeking, november, 2016, les...</td>\n",
       "    </tr>\n",
       "    <tr>\n",
       "      <th>4</th>\n",
       "      <td>875</td>\n",
       "      <td>The Battle of New York: Why This Primary Matters</td>\n",
       "      <td>It's primary day in New York and front-runners...</td>\n",
       "      <td>REAL</td>\n",
       "      <td>Its primary day in New York and frontrunners H...</td>\n",
       "      <td>[its, primary, day, in, new, york, and, frontr...</td>\n",
       "      <td>[primary, york, frontrunners, hillary, clinton...</td>\n",
       "      <td>[primary, york, frontrunners, hillary, clinton...</td>\n",
       "    </tr>\n",
       "  </tbody>\n",
       "</table>\n",
       "</div>"
      ],
      "text/plain": [
       "   Unnamed: 0                                              title  \\\n",
       "0        8476                       You Can Smell Hillary’s Fear   \n",
       "1       10294  Watch The Exact Moment Paul Ryan Committed Pol...   \n",
       "2        3608        Kerry to go to Paris in gesture of sympathy   \n",
       "3       10142  Bernie supporters on Twitter erupt in anger ag...   \n",
       "4         875   The Battle of New York: Why This Primary Matters   \n",
       "\n",
       "                                                text label  \\\n",
       "0  Daniel Greenfield, a Shillman Journalism Fello...  FAKE   \n",
       "1  Google Pinterest Digg Linkedin Reddit Stumbleu...  FAKE   \n",
       "2  U.S. Secretary of State John F. Kerry said Mon...  REAL   \n",
       "3  — Kaydee King (@KaydeeKing) November 9, 2016 T...  FAKE   \n",
       "4  It's primary day in New York and front-runners...  REAL   \n",
       "\n",
       "                                        removed_punc  \\\n",
       "0  Daniel Greenfield a Shillman Journalism Fellow...   \n",
       "1  Google Pinterest Digg Linkedin Reddit Stumbleu...   \n",
       "2  US Secretary of State John F Kerry said Monday...   \n",
       "3  — Kaydee King KaydeeKing November 9 2016 The l...   \n",
       "4  Its primary day in New York and frontrunners H...   \n",
       "\n",
       "                                              tokens  \\\n",
       "0  [daniel, greenfield, a, shillman, journalism, ...   \n",
       "1  [google, pinterest, digg, linkedin, reddit, st...   \n",
       "2  [us, secretary, of, state, john, f, kerry, sai...   \n",
       "3  [—, kaydee, king, kaydeeking, november, 9, 201...   \n",
       "4  [its, primary, day, in, new, york, and, frontr...   \n",
       "\n",
       "                                     filtered_tokens  \\\n",
       "0  [daniel, greenfield, shillman, journalism, fel...   \n",
       "1  [google, pinterest, digg, linkedin, reddit, st...   \n",
       "2  [secretary, state, john, kerry, said, monday, ...   \n",
       "3  [kaydee, king, kaydeeking, november, 2016, les...   \n",
       "4  [primary, york, frontrunners, hillary, clinton...   \n",
       "\n",
       "                                        clean_tokens  \n",
       "0  [daniel, greenfield, shillman, journalism, fel...  \n",
       "1  [google, pinterest, digg, linkedin, reddit, st...  \n",
       "2  [secretary, state, john, kerry, said, monday, ...  \n",
       "3  [kaydee, king, kaydeeking, november, 2016, les...  \n",
       "4  [primary, york, frontrunners, hillary, clinton...  "
      ]
     },
     "execution_count": 16,
     "metadata": {},
     "output_type": "execute_result"
    }
   ],
   "source": [
    "news_df['clean_tokens'] = news_df['filtered_tokens'].apply(lambda x : remove_stopwords(x))\n",
    "news_df.head()"
   ]
  },
  {
   "cell_type": "code",
   "execution_count": 17,
   "metadata": {},
   "outputs": [],
   "source": [
    "# Apply lemmatization on tokens\n",
    "def lemmatize(text):\n",
    "    word_net = WordNetLemmatizer()\n",
    "    return [word_net.lemmatize(word) for word in text]"
   ]
  },
  {
   "cell_type": "code",
   "execution_count": 18,
   "metadata": {},
   "outputs": [
    {
     "name": "stderr",
     "output_type": "stream",
     "text": [
      "[nltk_data] Downloading package wordnet to\n",
      "[nltk_data]     C:\\Users\\LIKITHA\\AppData\\Roaming\\nltk_data...\n",
      "[nltk_data]   Package wordnet is already up-to-date!\n"
     ]
    },
    {
     "data": {
      "text/plain": [
       "True"
      ]
     },
     "execution_count": 18,
     "metadata": {},
     "output_type": "execute_result"
    }
   ],
   "source": [
    "nltk.download('wordnet')"
   ]
  },
  {
   "cell_type": "code",
   "execution_count": 19,
   "metadata": {},
   "outputs": [
    {
     "data": {
      "text/html": [
       "<div>\n",
       "<style scoped>\n",
       "    .dataframe tbody tr th:only-of-type {\n",
       "        vertical-align: middle;\n",
       "    }\n",
       "\n",
       "    .dataframe tbody tr th {\n",
       "        vertical-align: top;\n",
       "    }\n",
       "\n",
       "    .dataframe thead th {\n",
       "        text-align: right;\n",
       "    }\n",
       "</style>\n",
       "<table border=\"1\" class=\"dataframe\">\n",
       "  <thead>\n",
       "    <tr style=\"text-align: right;\">\n",
       "      <th></th>\n",
       "      <th>Unnamed: 0</th>\n",
       "      <th>title</th>\n",
       "      <th>text</th>\n",
       "      <th>label</th>\n",
       "      <th>removed_punc</th>\n",
       "      <th>tokens</th>\n",
       "      <th>filtered_tokens</th>\n",
       "      <th>clean_tokens</th>\n",
       "      <th>lemma_words</th>\n",
       "    </tr>\n",
       "  </thead>\n",
       "  <tbody>\n",
       "    <tr>\n",
       "      <th>0</th>\n",
       "      <td>8476</td>\n",
       "      <td>You Can Smell Hillary’s Fear</td>\n",
       "      <td>Daniel Greenfield, a Shillman Journalism Fello...</td>\n",
       "      <td>FAKE</td>\n",
       "      <td>Daniel Greenfield a Shillman Journalism Fellow...</td>\n",
       "      <td>[daniel, greenfield, a, shillman, journalism, ...</td>\n",
       "      <td>[daniel, greenfield, shillman, journalism, fel...</td>\n",
       "      <td>[daniel, greenfield, shillman, journalism, fel...</td>\n",
       "      <td>[daniel, greenfield, shillman, journalism, fel...</td>\n",
       "    </tr>\n",
       "    <tr>\n",
       "      <th>1</th>\n",
       "      <td>10294</td>\n",
       "      <td>Watch The Exact Moment Paul Ryan Committed Pol...</td>\n",
       "      <td>Google Pinterest Digg Linkedin Reddit Stumbleu...</td>\n",
       "      <td>FAKE</td>\n",
       "      <td>Google Pinterest Digg Linkedin Reddit Stumbleu...</td>\n",
       "      <td>[google, pinterest, digg, linkedin, reddit, st...</td>\n",
       "      <td>[google, pinterest, digg, linkedin, reddit, st...</td>\n",
       "      <td>[google, pinterest, digg, linkedin, reddit, st...</td>\n",
       "      <td>[google, pinterest, digg, linkedin, reddit, st...</td>\n",
       "    </tr>\n",
       "    <tr>\n",
       "      <th>2</th>\n",
       "      <td>3608</td>\n",
       "      <td>Kerry to go to Paris in gesture of sympathy</td>\n",
       "      <td>U.S. Secretary of State John F. Kerry said Mon...</td>\n",
       "      <td>REAL</td>\n",
       "      <td>US Secretary of State John F Kerry said Monday...</td>\n",
       "      <td>[us, secretary, of, state, john, f, kerry, sai...</td>\n",
       "      <td>[secretary, state, john, kerry, said, monday, ...</td>\n",
       "      <td>[secretary, state, john, kerry, said, monday, ...</td>\n",
       "      <td>[secretary, state, john, kerry, said, monday, ...</td>\n",
       "    </tr>\n",
       "    <tr>\n",
       "      <th>3</th>\n",
       "      <td>10142</td>\n",
       "      <td>Bernie supporters on Twitter erupt in anger ag...</td>\n",
       "      <td>— Kaydee King (@KaydeeKing) November 9, 2016 T...</td>\n",
       "      <td>FAKE</td>\n",
       "      <td>— Kaydee King KaydeeKing November 9 2016 The l...</td>\n",
       "      <td>[—, kaydee, king, kaydeeking, november, 9, 201...</td>\n",
       "      <td>[kaydee, king, kaydeeking, november, 2016, les...</td>\n",
       "      <td>[kaydee, king, kaydeeking, november, 2016, les...</td>\n",
       "      <td>[kaydee, king, kaydeeking, november, 2016, les...</td>\n",
       "    </tr>\n",
       "    <tr>\n",
       "      <th>4</th>\n",
       "      <td>875</td>\n",
       "      <td>The Battle of New York: Why This Primary Matters</td>\n",
       "      <td>It's primary day in New York and front-runners...</td>\n",
       "      <td>REAL</td>\n",
       "      <td>Its primary day in New York and frontrunners H...</td>\n",
       "      <td>[its, primary, day, in, new, york, and, frontr...</td>\n",
       "      <td>[primary, york, frontrunners, hillary, clinton...</td>\n",
       "      <td>[primary, york, frontrunners, hillary, clinton...</td>\n",
       "      <td>[primary, york, frontrunners, hillary, clinton...</td>\n",
       "    </tr>\n",
       "  </tbody>\n",
       "</table>\n",
       "</div>"
      ],
      "text/plain": [
       "   Unnamed: 0                                              title  \\\n",
       "0        8476                       You Can Smell Hillary’s Fear   \n",
       "1       10294  Watch The Exact Moment Paul Ryan Committed Pol...   \n",
       "2        3608        Kerry to go to Paris in gesture of sympathy   \n",
       "3       10142  Bernie supporters on Twitter erupt in anger ag...   \n",
       "4         875   The Battle of New York: Why This Primary Matters   \n",
       "\n",
       "                                                text label  \\\n",
       "0  Daniel Greenfield, a Shillman Journalism Fello...  FAKE   \n",
       "1  Google Pinterest Digg Linkedin Reddit Stumbleu...  FAKE   \n",
       "2  U.S. Secretary of State John F. Kerry said Mon...  REAL   \n",
       "3  — Kaydee King (@KaydeeKing) November 9, 2016 T...  FAKE   \n",
       "4  It's primary day in New York and front-runners...  REAL   \n",
       "\n",
       "                                        removed_punc  \\\n",
       "0  Daniel Greenfield a Shillman Journalism Fellow...   \n",
       "1  Google Pinterest Digg Linkedin Reddit Stumbleu...   \n",
       "2  US Secretary of State John F Kerry said Monday...   \n",
       "3  — Kaydee King KaydeeKing November 9 2016 The l...   \n",
       "4  Its primary day in New York and frontrunners H...   \n",
       "\n",
       "                                              tokens  \\\n",
       "0  [daniel, greenfield, a, shillman, journalism, ...   \n",
       "1  [google, pinterest, digg, linkedin, reddit, st...   \n",
       "2  [us, secretary, of, state, john, f, kerry, sai...   \n",
       "3  [—, kaydee, king, kaydeeking, november, 9, 201...   \n",
       "4  [its, primary, day, in, new, york, and, frontr...   \n",
       "\n",
       "                                     filtered_tokens  \\\n",
       "0  [daniel, greenfield, shillman, journalism, fel...   \n",
       "1  [google, pinterest, digg, linkedin, reddit, st...   \n",
       "2  [secretary, state, john, kerry, said, monday, ...   \n",
       "3  [kaydee, king, kaydeeking, november, 2016, les...   \n",
       "4  [primary, york, frontrunners, hillary, clinton...   \n",
       "\n",
       "                                        clean_tokens  \\\n",
       "0  [daniel, greenfield, shillman, journalism, fel...   \n",
       "1  [google, pinterest, digg, linkedin, reddit, st...   \n",
       "2  [secretary, state, john, kerry, said, monday, ...   \n",
       "3  [kaydee, king, kaydeeking, november, 2016, les...   \n",
       "4  [primary, york, frontrunners, hillary, clinton...   \n",
       "\n",
       "                                         lemma_words  \n",
       "0  [daniel, greenfield, shillman, journalism, fel...  \n",
       "1  [google, pinterest, digg, linkedin, reddit, st...  \n",
       "2  [secretary, state, john, kerry, said, monday, ...  \n",
       "3  [kaydee, king, kaydeeking, november, 2016, les...  \n",
       "4  [primary, york, frontrunners, hillary, clinton...  "
      ]
     },
     "execution_count": 19,
     "metadata": {},
     "output_type": "execute_result"
    }
   ],
   "source": [
    "news_df['lemma_words'] = news_df['clean_tokens'].apply(lambda x : lemmatize(x))\n",
    "news_df.head()"
   ]
  },
  {
   "cell_type": "code",
   "execution_count": 20,
   "metadata": {},
   "outputs": [],
   "source": [
    "# Create sentences to get clean text as input for vectors\n",
    "\n",
    "def return_sentences(tokens):\n",
    "    return \" \".join([word for word in tokens])"
   ]
  },
  {
   "cell_type": "code",
   "execution_count": 21,
   "metadata": {},
   "outputs": [
    {
     "data": {
      "text/html": [
       "<div>\n",
       "<style scoped>\n",
       "    .dataframe tbody tr th:only-of-type {\n",
       "        vertical-align: middle;\n",
       "    }\n",
       "\n",
       "    .dataframe tbody tr th {\n",
       "        vertical-align: top;\n",
       "    }\n",
       "\n",
       "    .dataframe thead th {\n",
       "        text-align: right;\n",
       "    }\n",
       "</style>\n",
       "<table border=\"1\" class=\"dataframe\">\n",
       "  <thead>\n",
       "    <tr style=\"text-align: right;\">\n",
       "      <th></th>\n",
       "      <th>Unnamed: 0</th>\n",
       "      <th>title</th>\n",
       "      <th>text</th>\n",
       "      <th>label</th>\n",
       "      <th>removed_punc</th>\n",
       "      <th>tokens</th>\n",
       "      <th>filtered_tokens</th>\n",
       "      <th>clean_tokens</th>\n",
       "      <th>lemma_words</th>\n",
       "      <th>clean_text</th>\n",
       "    </tr>\n",
       "  </thead>\n",
       "  <tbody>\n",
       "    <tr>\n",
       "      <th>0</th>\n",
       "      <td>8476</td>\n",
       "      <td>You Can Smell Hillary’s Fear</td>\n",
       "      <td>Daniel Greenfield, a Shillman Journalism Fello...</td>\n",
       "      <td>FAKE</td>\n",
       "      <td>Daniel Greenfield a Shillman Journalism Fellow...</td>\n",
       "      <td>[daniel, greenfield, a, shillman, journalism, ...</td>\n",
       "      <td>[daniel, greenfield, shillman, journalism, fel...</td>\n",
       "      <td>[daniel, greenfield, shillman, journalism, fel...</td>\n",
       "      <td>[daniel, greenfield, shillman, journalism, fel...</td>\n",
       "      <td>daniel greenfield shillman journalism fellow f...</td>\n",
       "    </tr>\n",
       "    <tr>\n",
       "      <th>1</th>\n",
       "      <td>10294</td>\n",
       "      <td>Watch The Exact Moment Paul Ryan Committed Pol...</td>\n",
       "      <td>Google Pinterest Digg Linkedin Reddit Stumbleu...</td>\n",
       "      <td>FAKE</td>\n",
       "      <td>Google Pinterest Digg Linkedin Reddit Stumbleu...</td>\n",
       "      <td>[google, pinterest, digg, linkedin, reddit, st...</td>\n",
       "      <td>[google, pinterest, digg, linkedin, reddit, st...</td>\n",
       "      <td>[google, pinterest, digg, linkedin, reddit, st...</td>\n",
       "      <td>[google, pinterest, digg, linkedin, reddit, st...</td>\n",
       "      <td>google pinterest digg linkedin reddit stumbleu...</td>\n",
       "    </tr>\n",
       "    <tr>\n",
       "      <th>2</th>\n",
       "      <td>3608</td>\n",
       "      <td>Kerry to go to Paris in gesture of sympathy</td>\n",
       "      <td>U.S. Secretary of State John F. Kerry said Mon...</td>\n",
       "      <td>REAL</td>\n",
       "      <td>US Secretary of State John F Kerry said Monday...</td>\n",
       "      <td>[us, secretary, of, state, john, f, kerry, sai...</td>\n",
       "      <td>[secretary, state, john, kerry, said, monday, ...</td>\n",
       "      <td>[secretary, state, john, kerry, said, monday, ...</td>\n",
       "      <td>[secretary, state, john, kerry, said, monday, ...</td>\n",
       "      <td>secretary state john kerry said monday stop pa...</td>\n",
       "    </tr>\n",
       "    <tr>\n",
       "      <th>3</th>\n",
       "      <td>10142</td>\n",
       "      <td>Bernie supporters on Twitter erupt in anger ag...</td>\n",
       "      <td>— Kaydee King (@KaydeeKing) November 9, 2016 T...</td>\n",
       "      <td>FAKE</td>\n",
       "      <td>— Kaydee King KaydeeKing November 9 2016 The l...</td>\n",
       "      <td>[—, kaydee, king, kaydeeking, november, 9, 201...</td>\n",
       "      <td>[kaydee, king, kaydeeking, november, 2016, les...</td>\n",
       "      <td>[kaydee, king, kaydeeking, november, 2016, les...</td>\n",
       "      <td>[kaydee, king, kaydeeking, november, 2016, les...</td>\n",
       "      <td>kaydee king kaydeeking november 2016 lesson to...</td>\n",
       "    </tr>\n",
       "    <tr>\n",
       "      <th>4</th>\n",
       "      <td>875</td>\n",
       "      <td>The Battle of New York: Why This Primary Matters</td>\n",
       "      <td>It's primary day in New York and front-runners...</td>\n",
       "      <td>REAL</td>\n",
       "      <td>Its primary day in New York and frontrunners H...</td>\n",
       "      <td>[its, primary, day, in, new, york, and, frontr...</td>\n",
       "      <td>[primary, york, frontrunners, hillary, clinton...</td>\n",
       "      <td>[primary, york, frontrunners, hillary, clinton...</td>\n",
       "      <td>[primary, york, frontrunners, hillary, clinton...</td>\n",
       "      <td>primary york frontrunners hillary clinton dona...</td>\n",
       "    </tr>\n",
       "  </tbody>\n",
       "</table>\n",
       "</div>"
      ],
      "text/plain": [
       "   Unnamed: 0                                              title  \\\n",
       "0        8476                       You Can Smell Hillary’s Fear   \n",
       "1       10294  Watch The Exact Moment Paul Ryan Committed Pol...   \n",
       "2        3608        Kerry to go to Paris in gesture of sympathy   \n",
       "3       10142  Bernie supporters on Twitter erupt in anger ag...   \n",
       "4         875   The Battle of New York: Why This Primary Matters   \n",
       "\n",
       "                                                text label  \\\n",
       "0  Daniel Greenfield, a Shillman Journalism Fello...  FAKE   \n",
       "1  Google Pinterest Digg Linkedin Reddit Stumbleu...  FAKE   \n",
       "2  U.S. Secretary of State John F. Kerry said Mon...  REAL   \n",
       "3  — Kaydee King (@KaydeeKing) November 9, 2016 T...  FAKE   \n",
       "4  It's primary day in New York and front-runners...  REAL   \n",
       "\n",
       "                                        removed_punc  \\\n",
       "0  Daniel Greenfield a Shillman Journalism Fellow...   \n",
       "1  Google Pinterest Digg Linkedin Reddit Stumbleu...   \n",
       "2  US Secretary of State John F Kerry said Monday...   \n",
       "3  — Kaydee King KaydeeKing November 9 2016 The l...   \n",
       "4  Its primary day in New York and frontrunners H...   \n",
       "\n",
       "                                              tokens  \\\n",
       "0  [daniel, greenfield, a, shillman, journalism, ...   \n",
       "1  [google, pinterest, digg, linkedin, reddit, st...   \n",
       "2  [us, secretary, of, state, john, f, kerry, sai...   \n",
       "3  [—, kaydee, king, kaydeeking, november, 9, 201...   \n",
       "4  [its, primary, day, in, new, york, and, frontr...   \n",
       "\n",
       "                                     filtered_tokens  \\\n",
       "0  [daniel, greenfield, shillman, journalism, fel...   \n",
       "1  [google, pinterest, digg, linkedin, reddit, st...   \n",
       "2  [secretary, state, john, kerry, said, monday, ...   \n",
       "3  [kaydee, king, kaydeeking, november, 2016, les...   \n",
       "4  [primary, york, frontrunners, hillary, clinton...   \n",
       "\n",
       "                                        clean_tokens  \\\n",
       "0  [daniel, greenfield, shillman, journalism, fel...   \n",
       "1  [google, pinterest, digg, linkedin, reddit, st...   \n",
       "2  [secretary, state, john, kerry, said, monday, ...   \n",
       "3  [kaydee, king, kaydeeking, november, 2016, les...   \n",
       "4  [primary, york, frontrunners, hillary, clinton...   \n",
       "\n",
       "                                         lemma_words  \\\n",
       "0  [daniel, greenfield, shillman, journalism, fel...   \n",
       "1  [google, pinterest, digg, linkedin, reddit, st...   \n",
       "2  [secretary, state, john, kerry, said, monday, ...   \n",
       "3  [kaydee, king, kaydeeking, november, 2016, les...   \n",
       "4  [primary, york, frontrunners, hillary, clinton...   \n",
       "\n",
       "                                          clean_text  \n",
       "0  daniel greenfield shillman journalism fellow f...  \n",
       "1  google pinterest digg linkedin reddit stumbleu...  \n",
       "2  secretary state john kerry said monday stop pa...  \n",
       "3  kaydee king kaydeeking november 2016 lesson to...  \n",
       "4  primary york frontrunners hillary clinton dona...  "
      ]
     },
     "execution_count": 21,
     "metadata": {},
     "output_type": "execute_result"
    }
   ],
   "source": [
    "news_df['clean_text'] = news_df['lemma_words'].apply(lambda x : return_sentences(x))\n",
    "news_df.head()"
   ]
  },
  {
   "cell_type": "code",
   "execution_count": 22,
   "metadata": {},
   "outputs": [
    {
     "name": "stdout",
     "output_type": "stream",
     "text": [
      "Collecting package metadata (current_repodata.json): ...working... done\n",
      "Solving environment: ...working... done\n",
      "\n",
      "# All requested packages already installed.\n",
      "\n",
      "\n",
      "Note: you may need to restart the kernel to use updated packages.\n"
     ]
    }
   ],
   "source": [
    "conda install -c conda-forge wordcloud"
   ]
  },
  {
   "cell_type": "code",
   "execution_count": null,
   "metadata": {},
   "outputs": [],
   "source": []
  },
  {
   "cell_type": "code",
   "execution_count": 23,
   "metadata": {},
   "outputs": [
    {
     "data": {
      "image/png": "[encoded data removed]",
      "text/plain": [
       "<Figure size 720x720 with 1 Axes>"
      ]
     },
     "metadata": {
      "needs_background": "light"
     },
     "output_type": "display_data"
    }
   ],
   "source": [
    "from PIL import Image\n",
    "from wordcloud import WordCloud, STOPWORDS, ImageColorGenerator\n",
    "import matplotlib.pyplot as plt\n",
    "text = \" \".join(i for i in news_df['text'])\n",
    "\n",
    "wordcloud = WordCloud(max_font_size = 50, \n",
    "                     background_color = \"white\").generate(text)\n",
    "plt.figure(figsize = [10,10])\n",
    "plt.imshow(wordcloud, interpolation = \"bilinear\")\n",
    "plt.axis(\"off\")\n",
    "plt.show()"
   ]
  },
  {
   "cell_type": "code",
   "execution_count": null,
   "metadata": {},
   "outputs": [],
   "source": []
  },
  {
   "cell_type": "code",
   "execution_count": 24,
   "metadata": {},
   "outputs": [
    {
     "name": "stderr",
     "output_type": "stream",
     "text": [
      "[nltk_data] Downloading package punkt to\n",
      "[nltk_data]     C:\\Users\\LIKITHA\\AppData\\Roaming\\nltk_data...\n",
      "[nltk_data]   Package punkt is already up-to-date!\n"
     ]
    },
    {
     "data": {
      "text/plain": [
       "True"
      ]
     },
     "execution_count": 24,
     "metadata": {},
     "output_type": "execute_result"
    }
   ],
   "source": [
    "import nltk\n",
    "nltk.download('punkt') "
   ]
  },
  {
   "cell_type": "code",
   "execution_count": null,
   "metadata": {},
   "outputs": [],
   "source": []
  },
  {
   "cell_type": "code",
   "execution_count": null,
   "metadata": {},
   "outputs": [],
   "source": []
  },
  {
   "cell_type": "code",
   "execution_count": 25,
   "metadata": {},
   "outputs": [
    {
     "data": {
      "text/html": [
       "<div>\n",
       "<style scoped>\n",
       "    .dataframe tbody tr th:only-of-type {\n",
       "        vertical-align: middle;\n",
       "    }\n",
       "\n",
       "    .dataframe tbody tr th {\n",
       "        vertical-align: top;\n",
       "    }\n",
       "\n",
       "    .dataframe thead th {\n",
       "        text-align: right;\n",
       "    }\n",
       "</style>\n",
       "<table border=\"1\" class=\"dataframe\">\n",
       "  <thead>\n",
       "    <tr style=\"text-align: right;\">\n",
       "      <th></th>\n",
       "      <th>Unnamed: 0</th>\n",
       "      <th>title</th>\n",
       "      <th>text</th>\n",
       "      <th>label</th>\n",
       "      <th>removed_punc</th>\n",
       "      <th>tokens</th>\n",
       "      <th>filtered_tokens</th>\n",
       "      <th>clean_tokens</th>\n",
       "      <th>lemma_words</th>\n",
       "      <th>clean_text</th>\n",
       "    </tr>\n",
       "  </thead>\n",
       "  <tbody>\n",
       "    <tr>\n",
       "      <th>0</th>\n",
       "      <td>8476</td>\n",
       "      <td>You Can Smell Hillary’s Fear</td>\n",
       "      <td>Daniel Greenfield, a Shillman Journalism Fello...</td>\n",
       "      <td>1</td>\n",
       "      <td>Daniel Greenfield a Shillman Journalism Fellow...</td>\n",
       "      <td>[daniel, greenfield, a, shillman, journalism, ...</td>\n",
       "      <td>[daniel, greenfield, shillman, journalism, fel...</td>\n",
       "      <td>[daniel, greenfield, shillman, journalism, fel...</td>\n",
       "      <td>[daniel, greenfield, shillman, journalism, fel...</td>\n",
       "      <td>daniel greenfield shillman journalism fellow f...</td>\n",
       "    </tr>\n",
       "    <tr>\n",
       "      <th>1</th>\n",
       "      <td>10294</td>\n",
       "      <td>Watch The Exact Moment Paul Ryan Committed Pol...</td>\n",
       "      <td>Google Pinterest Digg Linkedin Reddit Stumbleu...</td>\n",
       "      <td>1</td>\n",
       "      <td>Google Pinterest Digg Linkedin Reddit Stumbleu...</td>\n",
       "      <td>[google, pinterest, digg, linkedin, reddit, st...</td>\n",
       "      <td>[google, pinterest, digg, linkedin, reddit, st...</td>\n",
       "      <td>[google, pinterest, digg, linkedin, reddit, st...</td>\n",
       "      <td>[google, pinterest, digg, linkedin, reddit, st...</td>\n",
       "      <td>google pinterest digg linkedin reddit stumbleu...</td>\n",
       "    </tr>\n",
       "    <tr>\n",
       "      <th>2</th>\n",
       "      <td>3608</td>\n",
       "      <td>Kerry to go to Paris in gesture of sympathy</td>\n",
       "      <td>U.S. Secretary of State John F. Kerry said Mon...</td>\n",
       "      <td>0</td>\n",
       "      <td>US Secretary of State John F Kerry said Monday...</td>\n",
       "      <td>[us, secretary, of, state, john, f, kerry, sai...</td>\n",
       "      <td>[secretary, state, john, kerry, said, monday, ...</td>\n",
       "      <td>[secretary, state, john, kerry, said, monday, ...</td>\n",
       "      <td>[secretary, state, john, kerry, said, monday, ...</td>\n",
       "      <td>secretary state john kerry said monday stop pa...</td>\n",
       "    </tr>\n",
       "    <tr>\n",
       "      <th>3</th>\n",
       "      <td>10142</td>\n",
       "      <td>Bernie supporters on Twitter erupt in anger ag...</td>\n",
       "      <td>— Kaydee King (@KaydeeKing) November 9, 2016 T...</td>\n",
       "      <td>1</td>\n",
       "      <td>— Kaydee King KaydeeKing November 9 2016 The l...</td>\n",
       "      <td>[—, kaydee, king, kaydeeking, november, 9, 201...</td>\n",
       "      <td>[kaydee, king, kaydeeking, november, 2016, les...</td>\n",
       "      <td>[kaydee, king, kaydeeking, november, 2016, les...</td>\n",
       "      <td>[kaydee, king, kaydeeking, november, 2016, les...</td>\n",
       "      <td>kaydee king kaydeeking november 2016 lesson to...</td>\n",
       "    </tr>\n",
       "    <tr>\n",
       "      <th>4</th>\n",
       "      <td>875</td>\n",
       "      <td>The Battle of New York: Why This Primary Matters</td>\n",
       "      <td>It's primary day in New York and front-runners...</td>\n",
       "      <td>0</td>\n",
       "      <td>Its primary day in New York and frontrunners H...</td>\n",
       "      <td>[its, primary, day, in, new, york, and, frontr...</td>\n",
       "      <td>[primary, york, frontrunners, hillary, clinton...</td>\n",
       "      <td>[primary, york, frontrunners, hillary, clinton...</td>\n",
       "      <td>[primary, york, frontrunners, hillary, clinton...</td>\n",
       "      <td>primary york frontrunners hillary clinton dona...</td>\n",
       "    </tr>\n",
       "  </tbody>\n",
       "</table>\n",
       "</div>"
      ],
      "text/plain": [
       "   Unnamed: 0                                              title  \\\n",
       "0        8476                       You Can Smell Hillary’s Fear   \n",
       "1       10294  Watch The Exact Moment Paul Ryan Committed Pol...   \n",
       "2        3608        Kerry to go to Paris in gesture of sympathy   \n",
       "3       10142  Bernie supporters on Twitter erupt in anger ag...   \n",
       "4         875   The Battle of New York: Why This Primary Matters   \n",
       "\n",
       "                                                text  label  \\\n",
       "0  Daniel Greenfield, a Shillman Journalism Fello...      1   \n",
       "1  Google Pinterest Digg Linkedin Reddit Stumbleu...      1   \n",
       "2  U.S. Secretary of State John F. Kerry said Mon...      0   \n",
       "3  — Kaydee King (@KaydeeKing) November 9, 2016 T...      1   \n",
       "4  It's primary day in New York and front-runners...      0   \n",
       "\n",
       "                                        removed_punc  \\\n",
       "0  Daniel Greenfield a Shillman Journalism Fellow...   \n",
       "1  Google Pinterest Digg Linkedin Reddit Stumbleu...   \n",
       "2  US Secretary of State John F Kerry said Monday...   \n",
       "3  — Kaydee King KaydeeKing November 9 2016 The l...   \n",
       "4  Its primary day in New York and frontrunners H...   \n",
       "\n",
       "                                              tokens  \\\n",
       "0  [daniel, greenfield, a, shillman, journalism, ...   \n",
       "1  [google, pinterest, digg, linkedin, reddit, st...   \n",
       "2  [us, secretary, of, state, john, f, kerry, sai...   \n",
       "3  [—, kaydee, king, kaydeeking, november, 9, 201...   \n",
       "4  [its, primary, day, in, new, york, and, frontr...   \n",
       "\n",
       "                                     filtered_tokens  \\\n",
       "0  [daniel, greenfield, shillman, journalism, fel...   \n",
       "1  [google, pinterest, digg, linkedin, reddit, st...   \n",
       "2  [secretary, state, john, kerry, said, monday, ...   \n",
       "3  [kaydee, king, kaydeeking, november, 2016, les...   \n",
       "4  [primary, york, frontrunners, hillary, clinton...   \n",
       "\n",
       "                                        clean_tokens  \\\n",
       "0  [daniel, greenfield, shillman, journalism, fel...   \n",
       "1  [google, pinterest, digg, linkedin, reddit, st...   \n",
       "2  [secretary, state, john, kerry, said, monday, ...   \n",
       "3  [kaydee, king, kaydeeking, november, 2016, les...   \n",
       "4  [primary, york, frontrunners, hillary, clinton...   \n",
       "\n",
       "                                         lemma_words  \\\n",
       "0  [daniel, greenfield, shillman, journalism, fel...   \n",
       "1  [google, pinterest, digg, linkedin, reddit, st...   \n",
       "2  [secretary, state, john, kerry, said, monday, ...   \n",
       "3  [kaydee, king, kaydeeking, november, 2016, les...   \n",
       "4  [primary, york, frontrunners, hillary, clinton...   \n",
       "\n",
       "                                          clean_text  \n",
       "0  daniel greenfield shillman journalism fellow f...  \n",
       "1  google pinterest digg linkedin reddit stumbleu...  \n",
       "2  secretary state john kerry said monday stop pa...  \n",
       "3  kaydee king kaydeeking november 2016 lesson to...  \n",
       "4  primary york frontrunners hillary clinton dona...  "
      ]
     },
     "execution_count": 25,
     "metadata": {},
     "output_type": "execute_result"
    }
   ],
   "source": [
    "# Prepare data for the model. Convert label in to binary\n",
    "\n",
    "news_df['label'] = [1 if x == 'FAKE' else 0 for x in news_df['label']]\n",
    "news_df.head()"
   ]
  },
  {
   "cell_type": "code",
   "execution_count": 26,
   "metadata": {},
   "outputs": [
    {
     "data": {
      "text/plain": [
       "0    3171\n",
       "1    3164\n",
       "Name: label, dtype: int64"
      ]
     },
     "execution_count": 26,
     "metadata": {},
     "output_type": "execute_result"
    }
   ],
   "source": [
    "news_df.label.value_counts()"
   ]
  },
  {
   "cell_type": "code",
   "execution_count": 27,
   "metadata": {},
   "outputs": [
    {
     "name": "stderr",
     "output_type": "stream",
     "text": [
      "C:\\Users\\LIKITHA\\anaconda3\\lib\\site-packages\\seaborn\\_decorators.py:36: FutureWarning: Pass the following variable as a keyword arg: x. From version 0.12, the only valid positional argument will be `data`, and passing other arguments without an explicit keyword will result in an error or misinterpretation.\n",
      "  warnings.warn(\n"
     ]
    },
    {
     "data": {
      "text/plain": [
       "<AxesSubplot:xlabel='label', ylabel='count'>"
      ]
     },
     "execution_count": 27,
     "metadata": {},
     "output_type": "execute_result"
    },
    {
     "data": {
      "image/png": "[encoded data removed]",
      "text/plain": [
       "<Figure size 432x288 with 1 Axes>"
      ]
     },
     "metadata": {
      "needs_background": "light"
     },
     "output_type": "display_data"
    }
   ],
   "source": [
    "#visualizing the count of Real and Fake values\n",
    "sns.countplot(news_df['label'])"
   ]
  },
  {
   "cell_type": "code",
   "execution_count": 28,
   "metadata": {},
   "outputs": [],
   "source": [
    "# Function to plot the confusion matrix (code from https://scikit-learn.org/stable/auto_examples/model_selection/plot_confusion_matrix.html)\n",
    "from sklearn import metrics\n",
    "import itertools\n",
    "def plot_confusion_matrix(cm, classes,\n",
    "                          normalize=False,\n",
    "                          title='Confusion matrix',\n",
    "                          cmap=plt.cm.Blues):\n",
    "    \n",
    "    plt.imshow(cm, interpolation='nearest', cmap=cmap)\n",
    "    plt.title(title)\n",
    "    plt.colorbar()\n",
    "    tick_marks = np.arange(len(classes))\n",
    "    plt.xticks(tick_marks, classes, rotation=45)\n",
    "    plt.yticks(tick_marks, classes)\n",
    "    if normalize:\n",
    "        cm = cm.astype('float') / cm.sum(axis=1)[:, np.newaxis]\n",
    "        print(\"Normalized confusion matrix\")\n",
    "    else:\n",
    "        print('Confusion matrix')\n",
    "    thresh = cm.max() / 2.\n",
    "    for i, j in itertools.product(range(cm.shape[0]), range(cm.shape[1])):\n",
    "        plt.text(j, i, cm[i, j],horizontalalignment=\"center\",color=\"white\" if cm[i, j] > thresh else \"black\")\n",
    "    plt.tight_layout()\n",
    "    plt.ylabel('True label')\n",
    "    plt.xlabel('Predicted label')\n",
    "    "
   ]
  },
  {
   "cell_type": "code",
   "execution_count": 29,
   "metadata": {},
   "outputs": [
    {
     "name": "stdout",
     "output_type": "stream",
     "text": [
      "(5068,)\n",
      "(1267,)\n"
     ]
    }
   ],
   "source": [
    "# Split the dataset\n",
    "\n",
    "X_train,X_test,y_train,y_test = train_test_split(news_df['clean_text'], news_df['label'], test_size=0.2, random_state = 5)\n",
    "\n",
    "print(X_train.shape)\n",
    "print(X_test.shape)"
   ]
  },
  {
   "cell_type": "code",
   "execution_count": 30,
   "metadata": {},
   "outputs": [
    {
     "data": {
      "text/plain": [
       "'MLA = [\\n    #GLM\\n    linear_model.LogisticRegressionCV(),\\n    linear_model.PassiveAggressiveClassifier(),\\n    #Navies Bayes\\n    naive_bayes.BernoulliNB(),\\n    naive_bayes.GaussianNB(),\\n    naive_bayes.MultinomialNB\\n    ]\\n\\nMLA_columns = []\\nMLA_compare = pd.DataFrame(columns = MLA_columns)\\n\\nrow_index = 0\\nfor alg in MLA:  \\n    \\n    predicted = alg.fit(tfidf_train, y_train).predict(tfidf_test)\\n    fp, tp, th = roc_curve(y_test, predicted)\\n    MLA_name = alg.__class__.__name__\\n    MLA_compare.loc[row_index,\\'MLA used\\'] = MLA_name\\n    MLA_compare.loc[row_index, \\'Train Accuracy\\'] = round(alg.score(X_train, y_train), 4)\\n    MLA_compare.loc[row_index, \\'Test Accuracy\\'] = round(alg.score(X_test, y_test), 4)\\n    MLA_compare.loc[row_index, \\'AUC\\'] = auc(fp, tp)\\n\\n    row_index+=1\\n    \\nMLA_compare.sort_values(by = [\\'MLA Test Accuracy\\'], ascending = False, inplace = True)    \\n# Creating plot to show the train accuracy\\nplt.subplots(figsize=(13,5))\\nsns.barplot(x=\"MLA used\", y=\"Train Accuracy\",data=MLA_compare,palette=\\'hot\\',edgecolor=sns.color_palette(\\'dark\\',7))\\nplt.xticks(rotation=90)\\nplt.title(\\'MLA Train Accuracy Comparison\\')\\nplt.show()\\n# Creating plot to show the test accuracy\\nplt.subplots(figsize=(13,5))\\nsns.barplot(x=\"MLA used\", y=\"Test Accuracy\",data=MLA_compare,palette=\\'hot\\',edgecolor=sns.color_palette(\\'dark\\',7))\\nplt.xticks(rotation=90)\\nplt.title(\\'Accuraccy of different machine learning models\\')\\nplt.show()'"
      ]
     },
     "execution_count": 30,
     "metadata": {},
     "output_type": "execute_result"
    }
   ],
   "source": [
    "'''MLA = [\n",
    "    #GLM\n",
    "    linear_model.LogisticRegressionCV(),\n",
    "    linear_model.PassiveAggressiveClassifier(),\n",
    "    #Navies Bayes\n",
    "    naive_bayes.BernoulliNB(),\n",
    "    naive_bayes.GaussianNB(),\n",
    "    naive_bayes.MultinomialNB\n",
    "    ]\n",
    "\n",
    "MLA_columns = []\n",
    "MLA_compare = pd.DataFrame(columns = MLA_columns)\n",
    "\n",
    "row_index = 0\n",
    "for alg in MLA:  \n",
    "    \n",
    "    predicted = alg.fit(tfidf_train, y_train).predict(tfidf_test)\n",
    "    fp, tp, th = roc_curve(y_test, predicted)\n",
    "    MLA_name = alg.__class__.__name__\n",
    "    MLA_compare.loc[row_index,'MLA used'] = MLA_name\n",
    "    MLA_compare.loc[row_index, 'Train Accuracy'] = round(alg.score(X_train, y_train), 4)\n",
    "    MLA_compare.loc[row_index, 'Test Accuracy'] = round(alg.score(X_test, y_test), 4)\n",
    "    MLA_compare.loc[row_index, 'AUC'] = auc(fp, tp)\n",
    "\n",
    "    row_index+=1\n",
    "    \n",
    "MLA_compare.sort_values(by = ['MLA Test Accuracy'], ascending = False, inplace = True)    \n",
    "# Creating plot to show the train accuracy\n",
    "plt.subplots(figsize=(13,5))\n",
    "sns.barplot(x=\"MLA used\", y=\"Train Accuracy\",data=MLA_compare,palette='hot',edgecolor=sns.color_palette('dark',7))\n",
    "plt.xticks(rotation=90)\n",
    "plt.title('MLA Train Accuracy Comparison')\n",
    "plt.show()\n",
    "# Creating plot to show the test accuracy\n",
    "plt.subplots(figsize=(13,5))\n",
    "sns.barplot(x=\"MLA used\", y=\"Test Accuracy\",data=MLA_compare,palette='hot',edgecolor=sns.color_palette('dark',7))\n",
    "plt.xticks(rotation=90)\n",
    "plt.title('Accuraccy of different machine learning models')\n",
    "plt.show()'''"
   ]
  },
  {
   "cell_type": "code",
   "execution_count": null,
   "metadata": {},
   "outputs": [],
   "source": []
  },
  {
   "cell_type": "code",
   "execution_count": 31,
   "metadata": {},
   "outputs": [
    {
     "name": "stdout",
     "output_type": "stream",
     "text": [
      "  (0, 200959)\t0.02208221923430295\n",
      "  (0, 169132)\t0.018929291346922148\n",
      "  (0, 88723)\t0.02208221923430295\n",
      "  (0, 226311)\t0.01920520630683884\n",
      "  (0, 179343)\t0.02208221923430295\n",
      "  (0, 130758)\t0.01564859324024157\n",
      "  (0, 206218)\t0.02208221923430295\n",
      "  (0, 110867)\t0.014714543589424062\n",
      "  (0, 8530)\t0.02208221923430295\n",
      "  (0, 209128)\t0.02208221923430295\n",
      "  (0, 8623)\t0.02208221923430295\n",
      "  (0, 86788)\t0.02208221923430295\n",
      "  (0, 186727)\t0.02208221923430295\n",
      "  (0, 108376)\t0.021328846047073403\n",
      "  (0, 96469)\t0.021328846047073403\n",
      "  (0, 13843)\t0.021328846047073403\n",
      "  (0, 157150)\t0.02208221923430295\n",
      "  (0, 194782)\t0.02208221923430295\n",
      "  (0, 189190)\t0.020744484404268973\n",
      "  (0, 204855)\t0.009845155164254753\n",
      "  (0, 4430)\t0.018048147940392827\n",
      "  (0, 195371)\t0.017248423631251692\n",
      "  (0, 133682)\t0.016748093904654135\n",
      "  (0, 186962)\t0.016232954883045998\n",
      "  (0, 202955)\t0.021328846047073403\n",
      "  :\t:\n",
      "  (5067, 211450)\t0.01586227953269562\n",
      "  (5067, 130106)\t0.009526071018703227\n",
      "  (5067, 177909)\t0.028652125424838817\n",
      "  (5067, 4158)\t0.006076749926660371\n",
      "  (5067, 37170)\t0.009479948894143036\n",
      "  (5067, 47469)\t0.022894425823671703\n",
      "  (5067, 140262)\t0.017098884842177114\n",
      "  (5067, 22564)\t0.008480856510356448\n",
      "  (5067, 197666)\t0.009473423757999956\n",
      "  (5067, 114008)\t0.018092550640933586\n",
      "  (5067, 155096)\t0.008462855328303183\n",
      "  (5067, 107378)\t0.03308947211234821\n",
      "  (5067, 156485)\t0.0067356026745104365\n",
      "  (5067, 89943)\t0.02351267783119579\n",
      "  (5067, 183489)\t0.01072886012685881\n",
      "  (5067, 32603)\t0.0395456032052314\n",
      "  (5067, 79929)\t0.008996646999265997\n",
      "  (5067, 132705)\t0.007648017635724542\n",
      "  (5067, 70480)\t0.0745908096404565\n",
      "  (5067, 220101)\t0.011399256561451408\n",
      "  (5067, 34941)\t0.017154759913186123\n",
      "  (5067, 121954)\t0.020727632233604545\n",
      "  (5067, 131193)\t0.0068542156080109015\n",
      "  (5067, 35030)\t0.016173202872060737\n",
      "  (5067, 179372)\t0.007644701059442055   (0, 240302)\t0.11808578242335657\n",
      "  (0, 239985)\t0.09533675237664342\n",
      "  (0, 239973)\t0.11633696349030793\n",
      "  (0, 235509)\t0.11808578242335657\n",
      "  (0, 228233)\t0.12141219924162942\n",
      "  (0, 228223)\t0.06689509049675658\n",
      "  (0, 222288)\t0.10775298801646668\n",
      "  (0, 222261)\t0.06517138313070603\n",
      "  (0, 221681)\t0.05884421075994419\n",
      "  (0, 218018)\t0.06354945114680746\n",
      "  (0, 207486)\t0.04179148400795188\n",
      "  (0, 202917)\t0.05306376236115636\n",
      "  (0, 196559)\t0.06127348661168762\n",
      "  (0, 196242)\t0.09818482640362566\n",
      "  (0, 196238)\t0.07962230630586406\n",
      "  (0, 196204)\t0.15924461261172812\n",
      "  (0, 196198)\t0.12294538640160967\n",
      "  (0, 192716)\t0.06140599478416819\n",
      "  (0, 190801)\t0.03746732398986591\n",
      "  (0, 189630)\t0.1130699668186176\n",
      "  (0, 188058)\t0.11808578242335657\n",
      "  (0, 183539)\t0.12141219924162942\n",
      "  (0, 183489)\t0.029566642715133304\n",
      "  (0, 177500)\t0.1088325276860179\n",
      "  (0, 169163)\t0.1257006963928274\n",
      "  :\t:\n",
      "  (1266, 19037)\t0.0716322668792061\n",
      "  (1266, 19036)\t0.030275283144656308\n",
      "  (1266, 15608)\t0.0773735215012493\n",
      "  (1266, 15412)\t0.07955309450257825\n",
      "  (1266, 15390)\t0.05145776226020422\n",
      "  (1266, 14117)\t0.04287221683404463\n",
      "  (1266, 14107)\t0.048309791588243986\n",
      "  (1266, 13664)\t0.06542019426080674\n",
      "  (1266, 13663)\t0.07559268069089217\n",
      "  (1266, 13618)\t0.08410185613393847\n",
      "  (1266, 11294)\t0.08236305282039376\n",
      "  (1266, 11293)\t0.08236305282039376\n",
      "  (1266, 9257)\t0.08236305282039376\n",
      "  (1266, 9255)\t0.06290182721734129\n",
      "  (1266, 5882)\t0.08236305282039376\n",
      "  (1266, 5771)\t0.027998675199739198\n",
      "  (1266, 5755)\t0.04510907787230194\n",
      "  (1266, 5500)\t0.026629206442919613\n",
      "  (1266, 4696)\t0.08236305282039376\n",
      "  (1266, 4694)\t0.053603002775232306\n",
      "  (1266, 4224)\t0.08236305282039376\n",
      "  (1266, 4158)\t0.02194545258541995\n",
      "  (1266, 1401)\t0.08236305282039376\n",
      "  (1266, 1357)\t0.02975463043664469\n",
      "  (1266, 74)\t0.08236305282039376\n"
     ]
    }
   ],
   "source": [
    "tfidf_vectorizer = TfidfVectorizer(stop_words='english', ngram_range=(1, 2) , max_df = 0.5, min_df=2, lowercase= True)\n",
    "tfidf_train = tfidf_vectorizer.fit_transform(X_train)\n",
    "tfidf_test = tfidf_vectorizer.transform(X_test)\n",
    "print(tfidf_train, tfidf_test)\n"
   ]
  },
  {
   "cell_type": "code",
   "execution_count": 40,
   "metadata": {
    "scrolled": true
   },
   "outputs": [
    {
     "name": "stdout",
     "output_type": "stream",
     "text": [
      "Accuracy score : 0.9439621152328335\n",
      "Confusion matrix : \n",
      " [[596  34]\n",
      " [ 37 600]]\n",
      "Confusion matrix\n"
     ]
    },
    {
     "data": {
      "image/png": "[encoded data removed]",
      "text/plain": [
       "<Figure size 432x288 with 2 Axes>"
      ]
     },
     "metadata": {
      "needs_background": "light"
     },
     "output_type": "display_data"
    }
   ],
   "source": [
    "# Passive Aggresive Classifier\n",
    "pac = PassiveAggressiveClassifier(max_iter=50)\n",
    "pac.fit(tfidf_train,y_train)\n",
    "\n",
    "pred = pac.predict(tfidf_test)\n",
    "a1=accuracy_score(y_test,pred)*100\n",
    "print(\"Accuracy score : {}\".format(accuracy_score(y_test, pred)))\n",
    "print(\"Confusion matrix : \\n {}\".format(confusion_matrix(y_test, pred)))\n",
    "\n",
    "cm = metrics.confusion_matrix(y_test, pred)\n",
    "plot_confusion_matrix(cm, classes=['Fake', 'Real'])"
   ]
  },
  {
   "cell_type": "code",
   "execution_count": 46,
   "metadata": {},
   "outputs": [
    {
     "name": "stdout",
     "output_type": "stream",
     "text": [
      "Accuracy score:0.8453038674033149\n",
      "Confusion matrix:\n",
      "[[619  11]\n",
      " [185 452]]\n",
      "Confusion matrix\n"
     ]
    },
    {
     "data": {
      "image/png": "[encoded data removed]",
      "text/plain": [
       "<Figure size 432x288 with 2 Axes>"
      ]
     },
     "metadata": {
      "needs_background": "light"
     },
     "output_type": "display_data"
    }
   ],
   "source": [
    "from sklearn.linear_model import PassiveAggressiveClassifier,LogisticRegression\n",
    "from sklearn.naive_bayes import MultinomialNB,GaussianNB\n",
    "from sklearn import metrics\n",
    "mnb_tf = MultinomialNB()\n",
    "mnb_tf.fit(tfidf_train, y_train)\n",
    "pred = mnb_tf.predict(tfidf_test)\n",
    "a2=accuracy_score(y_test,pred)*100\n",
    "print(\"Accuracy score:{}\".format(accuracy_score(y_test,pred)))\n",
    "print(\"Confusion matrix:\\n{}\".format(confusion_matrix(y_test,pred)))\n",
    "\n",
    "cm = metrics.confusion_matrix(y_test, pred)\n",
    "plot_confusion_matrix(cm, classes=['Fake', 'Real'])\n"
   ]
  },
  {
   "cell_type": "code",
   "execution_count": 47,
   "metadata": {},
   "outputs": [
    {
     "name": "stdout",
     "output_type": "stream",
     "text": [
      "Accuracy score:0.9226519337016574\n",
      "Confusion matrix:\n",
      "[[577  53]\n",
      " [ 45 592]]\n",
      "Confusion matrix\n",
      "Confusion matrix\n"
     ]
    },
    {
     "data": {
      "image/png": "[encoded data removed]",
      "text/plain": [
       "<Figure size 432x288 with 3 Axes>"
      ]
     },
     "metadata": {
      "needs_background": "light"
     },
     "output_type": "display_data"
    }
   ],
   "source": [
    "log_tf = LogisticRegression()\n",
    "log_tf.fit(tfidf_train, y_train)\n",
    "pred = log_tf.predict(tfidf_test)\n",
    "a3=accuracy_score(y_test,pred)*100\n",
    "print(\"Accuracy score:{}\".format(accuracy_score(y_test,pred)))\n",
    "print(\"Confusion matrix:\\n{}\".format(confusion_matrix(y_test,pred))) \n",
    "\n",
    "cm = metrics.confusion_matrix(y_test, pred)\n",
    "plot_confusion_matrix(cm, classes=['Fake', 'Real'])\n",
    "cm = metrics.confusion_matrix(y_test, pred)\n",
    "plot_confusion_matrix(cm, classes=['Fake', 'Real'])\n"
   ]
  },
  {
   "cell_type": "code",
   "execution_count": 51,
   "metadata": {},
   "outputs": [
    {
     "data": {
      "image/png": "[encoded data removed]",
      "text/plain": [
       "<Figure size 720x288 with 1 Axes>"
      ]
     },
     "metadata": {
      "needs_background": "light"
     },
     "output_type": "display_data"
    }
   ],
   "source": [
    "left=[0,30,60]\n",
    "height=[a1,a2,a3]\n",
    "tick_label=['PassiveAggressiveClassifier','Multinomial NB','LogisticRegression']\n",
    "plt.figure(figsize=(10,4))\n",
    "plt.bar(left,height,tick_label=tick_label,width=15,color=['orange','black','lightblue'])\n",
    "plt.ylabel('accuracy')\n",
    "plt.title('comparison of algorithms')\n",
    "plt.show()"
   ]
  },
  {
   "cell_type": "code",
   "execution_count": 35,
   "metadata": {},
   "outputs": [],
   "source": [
    "from sklearn.metrics import mean_squared_error,confusion_matrix, precision_score, recall_score, auc,roc_curve\n",
    "from sklearn import ensemble, linear_model, neighbors, svm, tree, neural_network\n",
    "from sklearn.linear_model import Ridge\n",
    "from sklearn import svm,model_selection, tree, linear_model, neighbors, naive_bayes, ensemble, discriminant_analysis, gaussian_process\n",
    "from sklearn.naive_bayes import MultinomialNB"
   ]
  },
  {
   "cell_type": "code",
   "execution_count": 36,
   "metadata": {},
   "outputs": [
    {
     "data": {
      "text/plain": [
       "'MLA = [\\n    #GLM\\n    linear_model.LogisticRegressionCV(),\\n    linear_model.PassiveAggressiveClassifier(),\\n    #Navies Bayes\\n    naive_bayes.BernoulliNB(),\\n    naive_bayes.GaussianNB(),\\n    naive_bayes.MultinomialNB\\n    ]\\n\\nMLA_columns = []\\nMLA_compare = pd.DataFrame(columns = MLA_columns)\\n\\nrow_index = 0\\nfor alg in MLA:  \\n    \\n    predicted = alg.fit(tfidf_train, y_train).predict(tfidf_test)\\n    fp, tp, th = roc_curve(y_test, predicted)\\n    MLA_name = alg.__class__.__name__\\n    MLA_compare.loc[row_index,\\'MLA used\\'] = MLA_name\\n    MLA_compare.loc[row_index, \\'Train Accuracy\\'] = round(alg.score(tfidf_train, y_train), 4)\\n    MLA_compare.loc[row_index, \\'Test Accuracy\\'] = round(alg.score(tfidf_test, y_test), 4)\\n    MLA_compare.loc[row_index, \\'AUC\\'] = auc(fp, tp)\\n\\n    row_index+=1\\n    \\nMLA_compare.sort_values(by = [\\'MLA Test Accuracy\\'], ascending = False, inplace = True)    \\n# Creating plot to show the train accuracy\\nplt.subplots(figsize=(13,5))\\nsns.barplot(x=\"MLA used\", y=\"Train Accuracy\",data=MLA_compare,palette=\\'hot\\',edgecolor=sns.color_palette(\\'dark\\',7))\\nplt.xticks(rotation=90)\\nplt.title(\\'MLA Train Accuracy Comparison\\')\\nplt.show()\\n# Creating plot to show the test accuracy\\nplt.subplots(figsize=(13,5))\\nsns.barplot(x=\"MLA used\", y=\"Test Accuracy\",data=MLA_compare,palette=\\'hot\\',edgecolor=sns.color_palette(\\'dark\\',7))\\nplt.xticks(rotation=90)\\nplt.title(\\'Accuraccy of different machine learning models\\')\\nplt.show()'"
      ]
     },
     "execution_count": 36,
     "metadata": {},
     "output_type": "execute_result"
    }
   ],
   "source": [
    "'''MLA = [\n",
    "    #GLM\n",
    "    linear_model.LogisticRegressionCV(),\n",
    "    linear_model.PassiveAggressiveClassifier(),\n",
    "    #Navies Bayes\n",
    "    naive_bayes.BernoulliNB(),\n",
    "    naive_bayes.GaussianNB(),\n",
    "    naive_bayes.MultinomialNB\n",
    "    ]\n",
    "\n",
    "MLA_columns = []\n",
    "MLA_compare = pd.DataFrame(columns = MLA_columns)\n",
    "\n",
    "row_index = 0\n",
    "for alg in MLA:  \n",
    "    \n",
    "    predicted = alg.fit(tfidf_train, y_train).predict(tfidf_test)\n",
    "    fp, tp, th = roc_curve(y_test, predicted)\n",
    "    MLA_name = alg.__class__.__name__\n",
    "    MLA_compare.loc[row_index,'MLA used'] = MLA_name\n",
    "    MLA_compare.loc[row_index, 'Train Accuracy'] = round(alg.score(tfidf_train, y_train), 4)\n",
    "    MLA_compare.loc[row_index, 'Test Accuracy'] = round(alg.score(tfidf_test, y_test), 4)\n",
    "    MLA_compare.loc[row_index, 'AUC'] = auc(fp, tp)\n",
    "\n",
    "    row_index+=1\n",
    "    \n",
    "MLA_compare.sort_values(by = ['MLA Test Accuracy'], ascending = False, inplace = True)    \n",
    "# Creating plot to show the train accuracy\n",
    "plt.subplots(figsize=(13,5))\n",
    "sns.barplot(x=\"MLA used\", y=\"Train Accuracy\",data=MLA_compare,palette='hot',edgecolor=sns.color_palette('dark',7))\n",
    "plt.xticks(rotation=90)\n",
    "plt.title('MLA Train Accuracy Comparison')\n",
    "plt.show()\n",
    "# Creating plot to show the test accuracy\n",
    "plt.subplots(figsize=(13,5))\n",
    "sns.barplot(x=\"MLA used\", y=\"Test Accuracy\",data=MLA_compare,palette='hot',edgecolor=sns.color_palette('dark',7))\n",
    "plt.xticks(rotation=90)\n",
    "plt.title('Accuraccy of different machine learning models')\n",
    "plt.show()'''"
   ]
  },
  {
   "cell_type": "code",
   "execution_count": 37,
   "metadata": {},
   "outputs": [
    {
     "name": "stdout",
     "output_type": "stream",
     "text": [
      "Requirement already satisfied: mlxtend in c:\\users\\likitha\\anaconda3\\lib\\site-packages (0.18.0)\n",
      "Requirement already satisfied: scipy>=1.2.1 in c:\\users\\likitha\\anaconda3\\lib\\site-packages (from mlxtend) (1.5.2)\n",
      "Requirement already satisfied: numpy>=1.16.2 in c:\\users\\likitha\\anaconda3\\lib\\site-packages (from mlxtend) (1.19.2)\n",
      "Requirement already satisfied: setuptools in c:\\users\\likitha\\anaconda3\\lib\\site-packages (from mlxtend) (50.3.1.post20201107)\n",
      "Requirement already satisfied: matplotlib>=3.0.0 in c:\\users\\likitha\\anaconda3\\lib\\site-packages (from mlxtend) (3.3.2)\n",
      "Requirement already satisfied: joblib>=0.13.2 in c:\\users\\likitha\\anaconda3\\lib\\site-packages (from mlxtend) (0.17.0)\n",
      "Requirement already satisfied: pandas>=0.24.2 in c:\\users\\likitha\\anaconda3\\lib\\site-packages (from mlxtend) (1.1.3)\n",
      "Requirement already satisfied: scikit-learn>=0.20.3 in c:\\users\\likitha\\anaconda3\\lib\\site-packages (from mlxtend) (0.23.2)\n",
      "Requirement already satisfied: pyparsing!=2.0.4,!=2.1.2,!=2.1.6,>=2.0.3 in c:\\users\\likitha\\anaconda3\\lib\\site-packages (from matplotlib>=3.0.0->mlxtend) (2.4.7)\n",
      "Requirement already satisfied: pillow>=6.2.0 in c:\\users\\likitha\\anaconda3\\lib\\site-packages (from matplotlib>=3.0.0->mlxtend) (8.0.1)\n",
      "Requirement already satisfied: cycler>=0.10 in c:\\users\\likitha\\anaconda3\\lib\\site-packages (from matplotlib>=3.0.0->mlxtend) (0.10.0)\n",
      "Requirement already satisfied: python-dateutil>=2.1 in c:\\users\\likitha\\anaconda3\\lib\\site-packages (from matplotlib>=3.0.0->mlxtend) (2.8.1)\n",
      "Requirement already satisfied: certifi>=2020.06.20 in c:\\users\\likitha\\anaconda3\\lib\\site-packages (from matplotlib>=3.0.0->mlxtend) (2020.6.20)\n",
      "Requirement already satisfied: kiwisolver>=1.0.1 in c:\\users\\likitha\\anaconda3\\lib\\site-packages (from matplotlib>=3.0.0->mlxtend) (1.3.0)\n",
      "Requirement already satisfied: pytz>=2017.2 in c:\\users\\likitha\\anaconda3\\lib\\site-packages (from pandas>=0.24.2->mlxtend) (2020.1)\n",
      "Requirement already satisfied: threadpoolctl>=2.0.0 in c:\\users\\likitha\\anaconda3\\lib\\site-packages (from scikit-learn>=0.20.3->mlxtend) (2.1.0)\n",
      "Requirement already satisfied: six in c:\\users\\likitha\\anaconda3\\lib\\site-packages (from cycler>=0.10->matplotlib>=3.0.0->mlxtend) (1.15.0)\n",
      "Note: you may need to restart the kernel to use updated packages.\n"
     ]
    }
   ],
   "source": [
    "pip install mlxtend"
   ]
  },
  {
   "cell_type": "code",
   "execution_count": 38,
   "metadata": {},
   "outputs": [],
   "source": [
    "import pickle\n",
    "pac.fit(tfidf_train,y_train)\n",
    "# Saving model to disk\n",
    "pickle.dump(pac, open('model.pkl','wb'))\n",
    "# Loading model to compare the results\n",
    "model = pickle.load(open('model.pkl','rb'))\n",
    "#print(model.predict([[2, 9, 6]]))"
   ]
  },
  {
   "cell_type": "code",
   "execution_count": null,
   "metadata": {},
   "outputs": [],
   "source": []
  }
 ],
 "metadata": {
  "kernelspec": {
   "display_name": "Python 3",
   "language": "python",
   "name": "python3"
  },
  "language_info": {
   "codemirror_mode": {
    "name": "ipython",
    "version": 3
   },
   "file_extension": ".py",
   "mimetype": "text/x-python",
   "name": "python",
   "nbconvert_exporter": "python",
   "pygments_lexer": "ipython3",
   "version": "3.8.5"
  }
 },
 "nbformat": 4,
 "nbformat_minor": 4
}
