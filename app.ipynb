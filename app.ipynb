{
 "cells": [
  {
   "cell_type": "code",
   "execution_count": null,
   "metadata": {},
   "outputs": [],
   "source": [
    "import pickle\n",
    "import pandas as pd\n",
    "import flask\n",
    "import os\n",
    "from flask import Flask,request,render_template\n",
    "from sklearn.feature_extraction.text import TfidfVectorizer\n",
    "from sklearn.linear_model import PassiveAggressiveClassifier\n",
    "from sklearn.model_selection import train_test_split\n",
    "app = Flask(__name__)\n",
    "tfvect=TfidfVectorizer(stop_words='english',max_df=0.7)\n",
    "loaded_model=pickle.load(open('model.pkl','rb'))\n",
    "dataframe=pd.read_csv(r'C:\\Users\\LIKITHA\\Desktop\\4-2 project\\fake_or_real_news.csv')\n",
    "x=dataframe['text']\n",
    "y=dataframe['label']\n",
    "x_train,x_test,y_train,y_test=train_test_split(x,y,test_size=0.2)\n",
    "def fake_news_det(news):\n",
    "    tfid_x_train=tfvect.fit_transform(x_train)\n",
    "    tfid_x_test=tfvect.transform(x_test)\n",
    "    input_data = [news]\n",
    "    vectorized_input_data=tfvect.transform(input_data)\n",
    "    prediction=loaded_model.predict(vectorized_input_data)\n",
    "    return prediction\n",
    "@app.route('/')\n",
    "def home():\n",
    "    return render_template('index.html')\n",
    "@app.route('/predict',methods=['POST'])\n",
    "def predict():\n",
    "    if request.method=='POST':\n",
    "        message=request.form['message']\n",
    "        pred=fake_news_det(message)\n",
    "        print(pred)\n",
    "        return render_template('index.html',prediction=pred)\n",
    "    return None\n",
    "if __name__== '__main__':\n",
    "    port=int(os.environ.get('PORT',5000))\n",
    "    app.run(port=port,debug=True,use_reloader=False)"
   ]
  },
  {
   "cell_type": "code",
   "execution_count": null,
   "metadata": {},
   "outputs": [],
   "source": []
  },
  {
   "cell_type": "code",
   "execution_count": null,
   "metadata": {},
   "outputs": [],
   "source": []
  }
 ],
 "metadata": {
  "kernelspec": {
   "display_name": "Python 3",
   "language": "python",
   "name": "python3"
  },
  "language_info": {
   "codemirror_mode": {
    "name": "ipython",
    "version": 3
   },
   "file_extension": ".py",
   "mimetype": "text/x-python",
   "name": "python",
   "nbconvert_exporter": "python",
   "pygments_lexer": "ipython3",
   "version": "3.8.5"
  }
 },
 "nbformat": 4,
 "nbformat_minor": 4
}
